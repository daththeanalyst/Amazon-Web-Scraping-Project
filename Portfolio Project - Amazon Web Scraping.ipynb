{
 "cells": [
  {
   "cell_type": "markdown",
   "id": "fd522afe-1c9f-45de-abc3-c494e9d1b2df",
   "metadata": {},
   "source": [
    "# Portfolio Project"
   ]
  },
  {
   "cell_type": "code",
   "execution_count": 228,
   "id": "ebb7c357-854b-45a7-b81f-5e53d2ccdb6b",
   "metadata": {},
   "outputs": [],
   "source": [
    "from bs4 import BeautifulSoup\n",
    "import requests\n",
    "import smtplib\n",
    "import time\n",
    "import datetime\n",
    "import pandas as pd"
   ]
  },
  {
   "cell_type": "code",
   "execution_count": 230,
   "id": "117f6182-70ed-4075-8461-6f490f83a5cb",
   "metadata": {},
   "outputs": [
    {
     "name": "stdout",
     "output_type": "stream",
     "text": [
      "$13.38\n",
      "\n",
      "                    Got Data? Data Analyst Programmer Accountant T-Shirt\n",
      "                   \n"
     ]
    }
   ],
   "source": [
    "# Connect to website\n",
    "\n",
    "URL = 'https://www.amazon.com/Data-Analyst-Programmer-Accountant-T-Shirt/dp/B0C1TCPZG5/ref=sr_1_1?crid=204ARJI5OFVE4&dib=eyJ2IjoiMSJ9.K-5Pp6gJVOBwEEHxOoHfEnoE8KxzHlWEFJD26DN4qCZpIQDUR7tV894UK-2fHiTqlZ_Z2ax8bAmlggMdU1p_zdLhaTbnaljadWGcqNboY_ScYyxLzwnjEtjdm_wFhQvLZ168O3DYwUXeYLkhLnl8DOmAzfGLPhRQFrGJDvaFJgI.velrouki2eqlEMt_Q9V1w7D6aXrBQfE6ZErQsrIScuE&dib_tag=se&keywords=got%2Bdata%2Banalyst%2Bshirt&qid=1720786887&sprefix=got%2Bdata%2Banalyst%2Bshir%2Caps%2C191&sr=8-1&customId=B0752XJYNL&customizationToken=MC_Assembly_1%23B0752XJYNL&th=1&psc=1'\n",
    "headers = {\"User-Agent\": \"Mozilla/5.0 (Windows NT 10.0; Win64; x64) AppleWebKit/537.36 (KHTML, like Gecko) Chrome/126.0.0.0 Safari/537.36\", \"Accept-Encoding\":\"gzip, deflate\", \"Accept\":\"text/html,application/xhtml+xml,application/xml;q=0.9,*/*;q=0.8\", \"DNT\":\"1\",\"Connection\":\"close\", \"Upgrade-Insecure-Requests\":\"1\"}\n",
    "page = requests.get(URL, headers = headers)\n",
    "\n",
    "soup1 = BeautifulSoup(page.content, \"html.parser\")\n",
    "soup2 = BeautifulSoup(soup1.prettify(), \"html.parser\")\n",
    "\n",
    "title = soup2.find(id='productTitle').get_text()\n",
    "price_symbol = soup2.find(class_='a-price-symbol').get_text(strip=True)\n",
    "price_whole = soup2.find(class_='a-price-whole').get_text(strip=True)\n",
    "price_fraction = soup2.find(class_='a-price-fraction').get_text(strip=True)\n",
    "price = f'{price_symbol}{price_whole}{price_fraction}'\n",
    "print(price)\n",
    "print(title)"
   ]
  },
  {
   "cell_type": "code",
   "execution_count": 231,
   "id": "cad3776c-c134-49a1-a268-5ee6622f8725",
   "metadata": {},
   "outputs": [
    {
     "name": "stdout",
     "output_type": "stream",
     "text": [
      "Got Data? Data Analyst Programmer Accountant T-Shirt\n",
      "13.38\n"
     ]
    }
   ],
   "source": [
    "price = price.strip()[1:]\n",
    "title = title.strip()\n",
    "\n",
    "print(title)\n",
    "print(price)"
   ]
  },
  {
   "cell_type": "code",
   "execution_count": 232,
   "id": "90f1cdd5-7f5a-405a-93c4-a3e1b166462b",
   "metadata": {},
   "outputs": [
    {
     "name": "stdout",
     "output_type": "stream",
     "text": [
      "2024-07-12\n"
     ]
    }
   ],
   "source": [
    "#Would be useful to have a timestamp for when the data is collected\n",
    "today = datetime.date.today()\n",
    "print(today)"
   ]
  },
  {
   "cell_type": "code",
   "execution_count": 233,
   "id": "572a4e89-d38e-4dfb-91ef-1a22ddb0aa36",
   "metadata": {},
   "outputs": [],
   "source": [
    "import csv\n",
    "header = ['Title', 'Price', 'Date']\n",
    "data = [title, price,  today]\n",
    "\n",
    "with open('AWSD.csv', 'w', newline='', encoding = 'UTF8') as f:\n",
    "    writer = csv.writer(f)\n",
    "    writer.writerow(header)\n",
    "    writer.writerow(data)   "
   ]
  },
  {
   "cell_type": "code",
   "execution_count": 234,
   "id": "4c322dea-9377-400b-9c7e-8f4dc5ac1e8d",
   "metadata": {},
   "outputs": [
    {
     "name": "stdout",
     "output_type": "stream",
     "text": [
      "                                               Title  Price        Date\n",
      "0  Got Data? Data Analyst Programmer Accountant T...  13.38  2024-07-12\n"
     ]
    }
   ],
   "source": [
    "df = pd.read_csv(r\"C:\\Users\\Dath\\Documents\\DathDataAnalystTraining\\Examples\\Amazon Web Scraper\\AWSD.csv\")\n",
    "print(df)"
   ]
  },
  {
   "cell_type": "code",
   "execution_count": 235,
   "id": "e5d92d74-f9ca-4fe4-b086-0b59db4582ce",
   "metadata": {},
   "outputs": [],
   "source": [
    "#Now we will be appending data to the csv\n",
    "#Adding data to the columns\n",
    "with open('AWSD.csv', 'a+', newline='', encoding = 'UTF8') as f:\n",
    "    writer = csv.writer(f)\n",
    "    writer.writerow(data)   "
   ]
  },
  {
   "cell_type": "code",
   "execution_count": 236,
   "id": "975db3a2-6123-4cb2-a85b-ff6e23c35e9e",
   "metadata": {},
   "outputs": [],
   "source": [
    "def check_price():\n",
    "    from bs4 import BeautifulSoup\n",
    "    import requests\n",
    "    import smtplib\n",
    "    import time\n",
    "    import datetime\n",
    "    import pandas as pd\n",
    "    import csv\n",
    "    URL = 'https://www.amazon.com/Data-Analyst-Programmer-Accountant-T-Shirt/dp/B0C1TCPZG5/ref=sr_1_1?crid=204ARJI5OFVE4&dib=eyJ2IjoiMSJ9.K-5Pp6gJVOBwEEHxOoHfEnoE8KxzHlWEFJD26DN4qCZpIQDUR7tV894UK-2fHiTqlZ_Z2ax8bAmlggMdU1p_zdLhaTbnaljadWGcqNboY_ScYyxLzwnjEtjdm_wFhQvLZ168O3DYwUXeYLkhLnl8DOmAzfGLPhRQFrGJDvaFJgI.velrouki2eqlEMt_Q9V1w7D6aXrBQfE6ZErQsrIScuE&dib_tag=se&keywords=got%2Bdata%2Banalyst%2Bshirt&qid=1720786887&sprefix=got%2Bdata%2Banalyst%2Bshir%2Caps%2C191&sr=8-1&customId=B0752XJYNL&customizationToken=MC_Assembly_1%23B0752XJYNL&th=1&psc=1'\n",
    "    headers = {\"User-Agent\": \"Mozilla/5.0 (Windows NT 10.0; Win64; x64) AppleWebKit/537.36 (KHTML, like Gecko) Chrome/126.0.0.0 Safari/537.36\", \"Accept-Encoding\":\"gzip, deflate\", \"Accept\":\"text/html,application/xhtml+xml,application/xml;q=0.9,*/*;q=0.8\", \"DNT\":\"1\",\"Connection\":\"close\", \"Upgrade-Insecure-Requests\":\"1\"}\n",
    "    page = requests.get(URL, headers = headers)\n",
    "    soup1 = BeautifulSoup(page.content, \"html.parser\")\n",
    "    soup2 = BeautifulSoup(soup1.prettify(), \"html.parser\")\n",
    "    title = soup2.find(id='productTitle').get_text()\n",
    "    price_symbol = soup2.find(class_='a-price-symbol').get_text(strip=True)\n",
    "    price_whole = soup2.find(class_='a-price-whole').get_text(strip=True)\n",
    "    price_fraction = soup2.find(class_='a-price-fraction').get_text(strip=True)\n",
    "    price = f'{price_symbol}{price_whole}{price_fraction}'\n",
    "    today = datetime.date.today()\n",
    "    price = price.strip()[1:]\n",
    "    title = title.strip()\n",
    "    header = ['Title', 'Price', 'Date']\n",
    "    data = [title, price,  today]\n",
    "\n",
    "    with open('AWSD.csv', 'a+', newline='', encoding = 'UTF8') as f:\n",
    "        writer = csv.writer(f)\n",
    "        writer.writerow(data)   \n",
    "\n",
    "    if(price < 14): # Automated email if price drops or changes\n",
    "        send_email()"
   ]
  },
  {
   "cell_type": "code",
   "execution_count": 244,
   "id": "f0dcb6af-58ff-46a0-8c13-f42c07a3c9d8",
   "metadata": {
    "scrolled": true
   },
   "outputs": [
    {
     "ename": "KeyboardInterrupt",
     "evalue": "",
     "output_type": "error",
     "traceback": [
      "\u001b[1;31m---------------------------------------------------------------------------\u001b[0m",
      "\u001b[1;31mKeyboardInterrupt\u001b[0m                         Traceback (most recent call last)",
      "Cell \u001b[1;32mIn[244], line 3\u001b[0m\n\u001b[0;32m      1\u001b[0m \u001b[38;5;28;01mwhile\u001b[39;00m(\u001b[38;5;28;01mTrue\u001b[39;00m):\n\u001b[0;32m      2\u001b[0m     check_price()\n\u001b[1;32m----> 3\u001b[0m     time\u001b[38;5;241m.\u001b[39msleep(\u001b[38;5;241m5\u001b[39m)\n",
      "\u001b[1;31mKeyboardInterrupt\u001b[0m: "
     ]
    }
   ],
   "source": [
    "while(True):\n",
    "    check_price()\n",
    "    time.sleep(86400) # 60*60*24 = 86400, would check the price every day"
   ]
  },
  {
   "cell_type": "code",
   "execution_count": 248,
   "id": "af6e9e6b-9216-435f-9ae5-a2faf1746db2",
   "metadata": {},
   "outputs": [
    {
     "name": "stdout",
     "output_type": "stream",
     "text": [
      "                                               Title  Price        Date\n",
      "0  Got Data? Data Analyst Programmer Accountant T...  13.38  2024-07-12\n",
      "1  Got Data? Data Analyst Programmer Accountant T...  13.38  2024-07-12\n",
      "2  Got Data? Data Analyst Programmer Accountant T...  13.38  2024-07-12\n",
      "3  Got Data? Data Analyst Programmer Accountant T...  13.38  2024-07-12\n"
     ]
    }
   ],
   "source": [
    "df = pd.read_csv(r\"C:\\Users\\Dath\\Documents\\DathDataAnalystTraining\\learning python\\AWSD.csv\")\n",
    "print(df)"
   ]
  },
  {
   "cell_type": "code",
   "execution_count": null,
   "id": "9b4e64c5-4202-40ae-a38e-1b7f8ecff07f",
   "metadata": {},
   "outputs": [],
   "source": [
    "#This can run on the computer in the background on and on"
   ]
  },
  {
   "cell_type": "code",
   "execution_count": null,
   "id": "aa614c14-1d08-4701-8038-82aadf5c0853",
   "metadata": {},
   "outputs": [],
   "source": [
    "def send_mail():\n",
    "    server = smtplib.SMTP_SSL('smtp.gmail.com',465)\n",
    "    server.ehlo()\n",
    "    #server.starttls()\n",
    "    server.ehlo()\n",
    "    server.login('dimo.atheneos@gmail.com','xxxxxxxxxx')\n",
    "    \n",
    "    subject = \"The Shirt you want is below $15! Now is your chance to buy!\"\n",
    "    body = \"Dimitris, This is the moment we have been waiting for. Now is your chance to pick up the shirt of your dreams. Don't mess it up! Link here: https://www.amazon.com/Funny-Data-Systems-Business-Analyst/dp/B07FNW9FGJ/ref=sr_1_3?dchild=1&keywords=data+analyst+tshirt&qid=1626655184&sr=8-3\"\n",
    "   \n",
    "    msg = f\"Subject: {subject}\\n\\n{body}\"\n",
    "    \n",
    "    server.sendmail(\n",
    "        'dimo.atheneos@gmail.com',\n",
    "        msg\n",
    "     \n",
    "    )"
   ]
  },
  {
   "cell_type": "code",
   "execution_count": null,
   "id": "fe3f4c54-68da-48db-b82f-d1ca65e6b493",
   "metadata": {},
   "outputs": [],
   "source": []
  },
  {
   "cell_type": "code",
   "execution_count": null,
   "id": "fb8e807a-a0b5-4d17-a6c0-973365a0ac53",
   "metadata": {},
   "outputs": [],
   "source": []
  },
  {
   "cell_type": "code",
   "execution_count": null,
   "id": "9ebb9194-05d3-4bee-8fe5-b10b9ccdee5e",
   "metadata": {},
   "outputs": [],
   "source": []
  },
  {
   "cell_type": "code",
   "execution_count": null,
   "id": "2a38a26f-4fd2-4192-a391-fe336faaeda5",
   "metadata": {},
   "outputs": [],
   "source": []
  },
  {
   "cell_type": "code",
   "execution_count": null,
   "id": "36f4bf4f-dec6-4a0f-b2da-a0460f6d1fb3",
   "metadata": {},
   "outputs": [],
   "source": []
  }
 ],
 "metadata": {
  "kernelspec": {
   "display_name": "Python 3 (ipykernel)",
   "language": "python",
   "name": "python3"
  },
  "language_info": {
   "codemirror_mode": {
    "name": "ipython",
    "version": 3
   },
   "file_extension": ".py",
   "mimetype": "text/x-python",
   "name": "python",
   "nbconvert_exporter": "python",
   "pygments_lexer": "ipython3",
   "version": "3.12.4"
  }
 },
 "nbformat": 4,
 "nbformat_minor": 5
}
